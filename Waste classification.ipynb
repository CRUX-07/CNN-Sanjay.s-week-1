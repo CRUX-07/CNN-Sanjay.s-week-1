{
  "nbformat": 4,
  "nbformat_minor": 0,
  "metadata": {
    "colab": {
      "name": "Waste_Garbage_Collection.ipynb",
      "provenance": [],
      "collapsed_sections": []
    },
    "kernelspec": {
      "name": "python3",
      "display_name": "Python 3"
    },
    "language_info": {
      "name": "python"
    },
    "accelerator": "GPU"
  },
  "cells": [
    {
      "cell_type": "markdown",
      "source": [
        "# **Written by Sanjay**"
      ],
      "metadata": {
        "id": "6o5rDEM-nxt-"
      }
    },
    {
      "cell_type": "markdown",
      "source": [
        "### **Waste Garbage Classification Using  Pre-train VGG - 16 Using Transfer Learning and Fine Tuning** \n",
        "\n",
        "The difference between Transfer Learning and Fine-Tuning is that \n",
        "\n",
        "* In Transfer Learning, we only optimize the weights of the new classification layers we have added, while we keep the weights of the original VGG16 model. \n",
        "\n",
        "* In Fine-Tuning we optimize both the weights of the new classification layers we have added, as well as some or all of the layers from the VGG16 model."
      ],
      "metadata": {
        "id": "Yk23-rr6VCG9"
      }
    },
    {
      "cell_type": "markdown",
      "source": [
        "# **Transfer Learning Architecture**"
      ],
      "metadata": {
        "id": "wwI-AExaDdDu"
      }
    },
    {
      "cell_type": "markdown",
      "source": [
        "![2_f.jpg]
